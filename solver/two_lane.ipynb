{
 "cells": [
  {
   "cell_type": "code",
   "execution_count": null,
   "metadata": {},
   "outputs": [],
   "source": [
    "from pyomo.environ import *\n",
    "import math"
   ]
  },
  {
   "cell_type": "code",
   "execution_count": null,
   "metadata": {},
   "outputs": [],
   "source": [
    "N = 1\n",
    "\n",
    "D1_elements = {1, 2}\n",
    "D2_elements = {}\n",
    "\n",
    "v0_data = {}\n",
    "v0_data[1] = 10\n",
    "v0_data[2] = 20\n",
    "\n",
    "s0_data = {}\n",
    "s0_data[1] = 140\n",
    "s0_data[2] = 151.5\n",
    "\n",
    "trange = range(0, 4*N+1)\n",
    "\n",
    "l = 4\n",
    "b = 3\n",
    "w = 6\n",
    "alpha = 5\n",
    "beta = 10\n",
    "vmax = 30\n",
    "\n",
    "a_data = [alpha, 0, -beta, 0] * N"
   ]
  },
  {
   "cell_type": "code",
   "execution_count": null,
   "metadata": {},
   "outputs": [],
   "source": [
    "model = ConcreteModel()"
   ]
  },
  {
   "cell_type": "code",
   "execution_count": null,
   "metadata": {},
   "outputs": [],
   "source": [
    "# Sets\n",
    "model.D1 = Set(ordered=False, initialize=D1_elements)\n",
    "model.D2 = Set(ordered=False, initialize=D2_elements)\n",
    "model.C = Set(ordered=False, initialize=model.D1 | model.D2)"
   ]
  },
  {
   "cell_type": "code",
   "execution_count": null,
   "metadata": {},
   "outputs": [],
   "source": [
    "# Parameters\n",
    "model.v0 = Param(model.C, initialize=v0_data)\n",
    "model.s0 = Param(model.C, initialize=s0_data)\n",
    "model.a = Param(trange, initialize={i+1: a_data[i] for i in range(len(a_data))})"
   ]
  },
  {
   "cell_type": "code",
   "execution_count": null,
   "metadata": {},
   "outputs": [],
   "source": [
    "# Variables\n",
    "model.t = Var(model.C, range(1, 4*N+1), within=NonNegativeReals)"
   ]
  },
  {
   "cell_type": "code",
   "execution_count": null,
   "metadata": {},
   "outputs": [],
   "source": [
    "# Defining critical velocities (also enforcing speed limit)\n",
    "model.v = Var(model.C, trange, within=NonNegativeReals, bounds=(0, vmax))\n",
    "def v_def_rule(model, i, j):\n",
    "    if j == 0:\n",
    "        return model.v[i, j] == model.v0[i]\n",
    "    else:\n",
    "        return model.v[i, j] == model.v[i, j-1] + model.a[j] * model.t[i, j]\n",
    "model.v_definition = Constraint(model.C, trange, rule = v_def_rule)"
   ]
  },
  {
   "cell_type": "code",
   "execution_count": null,
   "metadata": {},
   "outputs": [],
   "source": [
    "# Defining critical distances\n",
    "model.s = Var(model.C, trange, within=Reals)\n",
    "def s_def_rule(model, i, j):\n",
    "    if j == 0:\n",
    "        return model.s[i, j] == model.s0[i]\n",
    "    else:\n",
    "        return model.s[i, j] == model.s[i, j-1] - (model.v[i, j-1] + model.v[i, j]) * model.t[i, j] / 2\n",
    "model.s_definition = Constraint(model.C, trange, rule = s_def_rule)"
   ]
  },
  {
   "cell_type": "code",
   "execution_count": null,
   "metadata": {},
   "outputs": [],
   "source": [
    "# Defining critical times\n",
    "model.T = Var(model.C, trange, within=NonNegativeReals)\n",
    "def T_def_rule(model, i, j):\n",
    "    if j == 0:\n",
    "        return model.T[i, j] == 0\n",
    "    else:\n",
    "        return model.T[i, j] == model.T[i, j-1] + model.t[i, j]\n",
    "model.T_definition = Constraint(model.C, trange, rule = T_def_rule)"
   ]
  },
  {
   "cell_type": "code",
   "execution_count": null,
   "metadata": {},
   "outputs": [],
   "source": [
    "# Enforcing car exit at ti4N\n",
    "def car_exit_rule(model, i):\n",
    "    return model.s[i, 4*N] == 0\n",
    "model.car_exit_constraint = Constraint(model.C, rule=car_exit_rule)"
   ]
  },
  {
   "cell_type": "code",
   "execution_count": null,
   "metadata": {},
   "outputs": [],
   "source": [
    "# Preventing in-lane collision\n",
    "def inlane_collision_rule(model):\n",
    "    for i in model.C:\n",
    "        for j in model.C:\n",
    "            for m in trange:\n",
    "                for n in trange:\n",
    "                    if i == j:\n",
    "                        return Constraint.Skip\n",
    "\n",
    "                    M1 = 100000\n",
    "                    M2 = 100000\n",
    "                    M3 = 100000\n",
    "\n",
    "                    y1 = Var(domain=Binary)\n",
    "                    y2 = Var(domain=Binary)\n",
    "                    y3 = Var(domain=Binary)\n",
    "\n",
    "                    yield model.T[i, m] - model.T[j, n-1] <= M1*(1-y1)\n",
    "                    yield model.T[j, n] - model.T[i, m] <= M2*(1-y2)\n",
    "                    deltaT = model.T[i, m] - model.T[j, n-1]\n",
    "                    yield model.s[j, n-1] - (model.v[j, n-1]*deltaT + model.a[n]*deltaT*deltaT/2) - model.s[i, m] + l*math.copysign(1, model.s0[i] - model.s0[j]) <= M3*(1-y3)\n",
    "                    yield y1+y2+y3 >= 1\n",
    "\n",
    "model.inlane_collision_constraint = ConstraintList(rule=inlane_collision_rule)"
   ]
  },
  {
   "cell_type": "code",
   "execution_count": null,
   "metadata": {},
   "outputs": [],
   "source": [
    "# Objective\n",
    "def objective_rule(model):\n",
    "    return sum(model.T[i, 4*N] for i in model.C)\n",
    "model.objective = Objective(rule=objective_rule, sense=minimize)"
   ]
  },
  {
   "cell_type": "code",
   "execution_count": null,
   "metadata": {},
   "outputs": [],
   "source": [
    "model.display()"
   ]
  },
  {
   "cell_type": "code",
   "execution_count": null,
   "metadata": {},
   "outputs": [],
   "source": [
    "model.pprint()"
   ]
  },
  {
   "cell_type": "code",
   "execution_count": null,
   "metadata": {},
   "outputs": [],
   "source": [
    "opt = SolverFactory(\"gurobi_direct\")\n",
    "results = opt.solve(model)"
   ]
  },
  {
   "cell_type": "code",
   "execution_count": null,
   "metadata": {},
   "outputs": [],
   "source": [
    "for i in model.C:\n",
    "    for j in range(1, 4*N+1):\n",
    "        print(f\"t{i, j} = {model.t[i, j].value}\")\n",
    "        print(f\"s{i, j} = {model.s[i, j].value}\")\n",
    "        print(f\"v{i, j} = {model.v[i, j].value}\")\n",
    "        print()"
   ]
  }
 ],
 "metadata": {
  "kernelspec": {
   "display_name": ".env",
   "language": "python",
   "name": "python3"
  },
  "language_info": {
   "codemirror_mode": {
    "name": "ipython",
    "version": 3
   },
   "file_extension": ".py",
   "mimetype": "text/x-python",
   "name": "python",
   "nbconvert_exporter": "python",
   "pygments_lexer": "ipython3",
   "version": "3.11.0"
  }
 },
 "nbformat": 4,
 "nbformat_minor": 2
}
